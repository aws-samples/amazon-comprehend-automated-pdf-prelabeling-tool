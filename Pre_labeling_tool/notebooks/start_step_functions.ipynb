{
 "cells": [
  {
   "attachments": {},
   "cell_type": "markdown",
   "id": "746c475d-f431-4dc5-8244-ba490b8d547d",
   "metadata": {},
   "source": [
    "# Starts Pre Labeling Tool\n",
    "\n",
    "\n",
    "\n",
    "This notebook shows you how to start the Pre-Labeling Tool and assumes that you have already created the required inputs as explained in [```generate_premanifest_file.ipynb```](mlsl-poc/notebooks/labeling_jobs/generate_premanifest_file.ipynb).\n",
    "\n",
    "There are 2 different versions of the **Pre-Labeling Tool**:\n",
    "- **Fuzzy Matching Version**: does the pre-annotation based on text similarities with expected entities files provided by the user\n",
    "- **Comprehend Version**: does the pre-annotation based on Comprehend model predictions\n",
    "\n",
    "Both versions correspond to a different Step Function.\n",
    "\n"
   ]
  },
  {
   "cell_type": "code",
   "execution_count": 30,
   "id": "ddd1c606-8098-4676-a582-40f570ad1319",
   "metadata": {
    "tags": []
   },
   "outputs": [],
   "source": [
    "import json\n",
    "import boto3\n",
    "import os\n",
    "\n",
    "session = boto3.session.Session()\n",
    "REGION = session.region_name\n",
    "sts = session.client('sts')\n",
    "AWS_ID = sts.get_caller_identity().get('Account')\n",
    "stepfunctions_client = boto3.client('stepfunctions')"
   ]
  },
  {
   "attachments": {},
   "cell_type": "markdown",
   "id": "835e30b5-d8da-4111-a357-073a7d84615d",
   "metadata": {},
   "source": [
    "## Prerequisites"
   ]
  },
  {
   "attachments": {},
   "cell_type": "markdown",
   "id": "a074f769-52ae-4cf1-8576-979a621278cc",
   "metadata": {},
   "source": [
    "### a. Create a private Labeling workforces\n",
    "To create a GT Labeling Job with the Pre-Labeling tool, you first need to manually create a private Labeling workforce. This can be done in the console by following these steps:\n",
    "- Go to 'Sagemaker' -> 'Groundtruth' -> 'Labeling workforces' -> 'Private' -> 'Create private team'\n",
    "- Select: 'Create a new Amazon Cognito user group', 'Invite new workers by email'\n",
    "- Choose a 'Team name' and enter the email address of the workers"
   ]
  },
  {
   "attachments": {},
   "cell_type": "markdown",
   "id": "823cef8b-ffa0-4b9d-8e46-623ccd218b6b",
   "metadata": {},
   "source": [
    "### b. Check notebook IAM role permissions\n",
    "\n",
    "This notebook needs to have the permission to start a step functions execution. Make sure to update and attach the following policy to your notebook role:\n",
    "\n",
    "```\n",
    "{\n",
    "\t\"Version\": \"2012-10-17\",\n",
    "\t\"Statement\": [\n",
    "\t\t{\n",
    "\t\t\t\"Sid\": \"VisualEditor0\",\n",
    "\t\t\t\"Effect\": \"Allow\",\n",
    "\t\t\t\"Action\": \"states:StartExecution\",\n",
    "\t\t\t\"Resource\": [\n",
    "\t\t\t\t\"arn:aws:states:{REGION}:{AWS_ID}:stateMachine:PrelabelingComprehendStepFunctions\",\n",
    "\t\t\t\t\"arn:aws:states:{REGION}:{AWS_ID}:stateMachine:PrelabelingFuzzyMatchingStepFunctions\"\n",
    "\t\t\t]\n",
    "\t\t}\n",
    "\t]\n",
    "}\n",
    "```"
   ]
  },
  {
   "attachments": {},
   "cell_type": "markdown",
   "id": "1159af5d-5925-412d-b255-852d358a80f5",
   "metadata": {},
   "source": [
    "## Option 1: Fuzzy Matching version"
   ]
  },
  {
   "attachments": {},
   "cell_type": "markdown",
   "id": "5bd3ffb7-4b6f-43b6-9ddd-f3da4ae4a596",
   "metadata": {},
   "source": [
    "**What is the Fuzzy Matching version?**\n",
    "\n",
    "The Fuzzy Matching version uses [Fuzzy Matching](https://en.wikipedia.org/wiki/Approximate_string_matching) to detect the expected entities provided by the user and generate the pre-annotations.\n",
    "This Fuzzy Matching version can be used to directly train a Comprehend Custom Entity Recognizer and/or create a Ground Truth Labeling Job that human annotators can use to review the generated pre-anotations before training a model."
   ]
  },
  {
   "cell_type": "code",
   "execution_count": 31,
   "id": "915481f5-225f-4943-b5e0-808331ab9151",
   "metadata": {
    "tags": []
   },
   "outputs": [],
   "source": [
    "# FuzzyMatching Version\n",
    "fuzzymatching_prelabeling_step_functions_arn = 'arn:aws:states:{}:{}:stateMachine:PrelabelingFuzzyMatchingStepFunctions'.format(REGION,AWS_ID)"
   ]
  },
  {
   "attachments": {},
   "cell_type": "markdown",
   "id": "ac7c82d3-781b-4642-ba49-da77f069349e",
   "metadata": {},
   "source": [
    "To start the Fuzzy Matching version of the Pre-Labeling Tool, we need to start the corresponding Step Function with the following parameters given as an input:\n",
    "- ```premanifest``` : the premanifest file maps PDF to their expected_entities files.\n",
    "    - ```bucket```: bucket of the premanifest file\n",
    "    - ```key```: s3 path of the premanifest file\n",
    "- ```prefix```: is used for creating the execution_id which will be used for naming the the s3 folder where outputs will be stored and for the GT labeling job name\n",
    "- ```work_team_name``` [optional]: Private workforce used to create the GT labeling job. If this argument is not given, then the GT Labeling Job will not be created\n",
    "- ```comprehend_parameters``` [optional]: Parameters used to train the COmprehend custom entity recognizer. If this argument is not given, then the training of the Comprehend custom entity recognizer training won't be done.\n",
    "- ```entity_types```: entity types displayed on the UI and available to annotators\n",
    "\n",
    "\n",
    "**IMPORTANT NOTE**: \n",
    "- For the Fuzzy Matching version, the expected entities files need to be provided in the premanifest file. In other words, each element of the premanifest file should have the ```expected_entities``` key\n",
    "- all PDF documents referenced by the ```premanifest``` file must be placed in the bucket ```comprehend-semi-structured-docs-{region-name}-{account-id}``` that was created by the SAM template. Indeed, the Semi-Structured Documents Annotation Tool used (cf [here](https://github.com/aws-samples/amazon-comprehend-semi-structured-documents-annotation-tools)) does not support input data outside of this bucket."
   ]
  },
  {
   "attachments": {},
   "cell_type": "markdown",
   "id": "6a101101",
   "metadata": {},
   "source": [
    "\n",
    "With this Fuzzy Matching version we can create a Ground Truth Labeling Job with pre-annotations displayed and/or directly train a custom Comprehend entity recognizer. We will run the Fuzzy Matching version of the Pre-Labeling tool twice: \n",
    "- first to create a Ground Truth Labeling Job (option 1.1)\n",
    "- and then to show how to launch the training of Comprehend (option 1.2)\n",
    "\n",
    "Note: these two steps can also be run in one single execution.  "
   ]
  },
  {
   "attachments": {},
   "cell_type": "markdown",
   "id": "a0a95de8-73ab-4a18-bfe2-33c3099871c5",
   "metadata": {},
   "source": [
    "### Option 1.1. Create a GT Labeling Job\n",
    "\n",
    "Here we will use the 5 PDF documents that have been uploaded in the example-demo/ subfolder (cf generate_premanifest_file.ipynb)"
   ]
  },
  {
   "cell_type": "code",
   "execution_count": 32,
   "id": "196931de-3cf2-460f-b0c9-14e33b552002",
   "metadata": {
    "tags": []
   },
   "outputs": [],
   "source": [
    "team_name = 'REPLACE_WITH_YOUR_TEAM_NAME'"
   ]
  },
  {
   "cell_type": "code",
   "execution_count": 33,
   "id": "96da0d39-ae29-4d60-a30f-3135e4154cd2",
   "metadata": {
    "tags": []
   },
   "outputs": [],
   "source": [
    "inputs_subfolder = 'example-demo' # subfolders where inputs have been placed"
   ]
  },
  {
   "cell_type": "code",
   "execution_count": 35,
   "id": "b6bc1a29-2b59-4842-9a3d-12d496fccfde",
   "metadata": {
    "tags": []
   },
   "outputs": [],
   "source": [
    "event_fuzzymatching_create_gt = {\n",
    "   \"premanifest\":{\n",
    "      \"bucket\":f\"comprehend-semi-structured-docs-{REGION}-{AWS_ID}\",\n",
    "       \"key\":f\"prelabeling-inputs/{inputs_subfolder}/premanifest/premanifest.json\"\n",
    "   },\n",
    "   \"prefix\":\"test-fuzz-gt\",\n",
    "   \"work_team_name\":team_name,\n",
    "   \"entity_types\":[\n",
    "      \"bank_name\",\n",
    "      \"customer_name\",\n",
    "      \"checking_number\",\n",
    "      \"checking_amount\",\n",
    "      \"savings_number\",\n",
    "      \"savings_amount\", \n",
    "       \"date\"\n",
    "   ],\n",
    "    # \"comprehend_parameters\": {\"model_name\":\"test-from-prelabeling\"}\n",
    "}"
   ]
  },
  {
   "cell_type": "code",
   "execution_count": 36,
   "id": "fc640214-80f2-4b03-8cdd-8a60e7c7c3d1",
   "metadata": {
    "tags": []
   },
   "outputs": [],
   "source": [
    "response = stepfunctions_client.start_execution(\n",
    "    stateMachineArn=fuzzymatching_prelabeling_step_functions_arn,\n",
    "    input=json.dumps(event_fuzzymatching_create_gt)\n",
    ")"
   ]
  },
  {
   "attachments": {},
   "cell_type": "markdown",
   "id": "f25a3cf0-8c37-44f8-b6b8-bb01f6b6399d",
   "metadata": {
    "tags": []
   },
   "source": [
    "### Option 1.2. Train Comprehend\n",
    "\n",
    "Here we will use the 250 PDF documents that have been uploaded in the example-demo-training/ subfolder (cf ```generate_premanifest_file.ipynb```)"
   ]
  },
  {
   "cell_type": "code",
   "execution_count": 37,
   "id": "9b3aa433-23fd-4443-8128-1e91d9928d35",
   "metadata": {},
   "outputs": [],
   "source": [
    "inputs_subfolder = 'example-demo-training' # subfolders where inputs have been placed"
   ]
  },
  {
   "cell_type": "code",
   "execution_count": 38,
   "id": "f133a6c6-ac44-49c9-9547-aec83c2db912",
   "metadata": {
    "tags": []
   },
   "outputs": [],
   "source": [
    "event_fuzzymatching_training = {\n",
    "   \"premanifest\":{\n",
    "      \"bucket\":f\"comprehend-semi-structured-docs-{REGION}-{AWS_ID}\",\n",
    "       \"key\":f\"prelabeling-inputs/{inputs_subfolder}/premanifest/premanifest.json\"\n",
    "   },\n",
    "   \"prefix\":\"test-fuzz-wct\",\n",
    "   # \"work_team_name\":\"PrivateTeam\", # here we won't create a GT labeling Job\n",
    "   \"entity_types\":[\n",
    "      \"bank_name\",\n",
    "      \"customer_name\",\n",
    "      \"checking_number\",\n",
    "      \"checking_amount\",\n",
    "      \"savings_number\",\n",
    "      \"savings_amount\",\n",
    "       \"date\"\n",
    "   ],\n",
    "    \"comprehend_parameters\": {\"model_name\":\"test-from-prelabeling\"}\n",
    "\n",
    "}"
   ]
  },
  {
   "cell_type": "code",
   "execution_count": 39,
   "id": "2e6dcdd9-7572-4ac0-8ced-608fb1136b04",
   "metadata": {
    "tags": []
   },
   "outputs": [],
   "source": [
    "response = stepfunctions_client.start_execution(\n",
    "    stateMachineArn=fuzzymatching_prelabeling_step_functions_arn,\n",
    "    input=json.dumps(event_fuzzymatching_training)\n",
    ")"
   ]
  },
  {
   "attachments": {},
   "cell_type": "markdown",
   "id": "39d36f8f",
   "metadata": {},
   "source": [
    "### Results / Outputs\n",
    "\n",
    "You can visually follow the execution of the Step Function in the console.\n",
    "\n",
    "Once the execution is finished, you can: \n",
    "- inspect the following outputs saved in s3:\n",
    "  ```\n",
    "  └── comprehend-semi-structured-docs-{region-name}-{account-id}\n",
    "      └── prelabeling\n",
    "          └── {prefix}+{datetime} # unique folder per job\n",
    "              ├── consolidated_manifest/\n",
    "              │   └── consolidated_manifest_comprehend.manifest # manifest file that can be used to train Comprehend\n",
    "              │   └── consolidated_manifest.manifest # manifest file used by GT Labeling Job\n",
    "              ├── input-premanifest/\n",
    "              │   └── premanifest.json # copy of the pre-manifest file used as input\n",
    "              ├── temp_individual_manifests/ # individual manifest per doc per page\n",
    "              │   ├── file_1_page_0_manifest.manifest \n",
    "              │   ├── file_1_page_1_manifest.manifest\n",
    "              │   └── ...\n",
    "              └── textract-annotations/ # textract outputs\n",
    "  ```\n",
    "\n",
    "- open the GT Labeling Job that was created to review the annotations (for option 1.1). For that, go to 'Amazon Sagemaker' -> 'Ground Truth' -> 'Labeling jobs' \n",
    "- inspect and play with the custom model that was trained by Comprehend (for option 1.2)"
   ]
  },
  {
   "attachments": {},
   "cell_type": "markdown",
   "id": "e9802471-ede1-4213-9d66-10f699ba4357",
   "metadata": {
    "tags": []
   },
   "source": [
    "## Option 2: Comprehend version\n",
    "\n",
    "**What is the Comprehend version?**\n",
    "\n",
    "The Comprehend version requires that you already have trained a Custom Entity Recognizer Comprehend model. It will then use this model to pre-annotate the PDF documents.\n",
    "Hence, this version takes as an additional input the custom Comprehend model that we trained.\n",
    "\n",
    "Note: this version can only be used to create a Ground Truth labeling Job with pre-annotations displayed. The step to train a new custom entity recognizer has not been implemented.\n",
    "\n",
    "**Important Note**:\n",
    "- make sure that the ```premanifest``` file does not exceed 1000 documents as there is currently a limit Quota on Textract: ```StartDocumentTextDetection throttle limit in transactions per second``` is limited to 2 per second. This quota is exceeded when Comprehend creates strictly more than 2 batches of 500 documents each."
   ]
  },
  {
   "cell_type": "code",
   "execution_count": 32,
   "id": "4c04a9a9-eebc-4d31-90e0-7416ef3ea252",
   "metadata": {
    "tags": []
   },
   "outputs": [],
   "source": [
    "# Comprehend Version\n",
    "comprehend_prelabeling_step_functions_arn = f'arn:aws:states:{REGION}:{AWS_ID}:stateMachine:PrelabelingComprehendStepFunctions'\n",
    "\n",
    "team_name = 'REPLACE_WITH_YOUR_TEAM_NAME'\n",
    "model_ARN_comprehend = 'REPLACE_WITH_COMP_ARN' # provide the arn of your custom Comprehend "
   ]
  },
  {
   "cell_type": "code",
   "execution_count": 10,
   "id": "209e37e7-635e-46f9-92f4-74319435ed61",
   "metadata": {
    "tags": []
   },
   "outputs": [],
   "source": [
    "event_comprehend = {\n",
    "   \"premanifest\":{\n",
    "      \"bucket\":f\"comprehend-semi-structured-docs-{REGION}-{AWS_ID}\",\n",
    "      \"key\":f\"prelabeling-inputs/{inputs_subfolder}/premanifest/premanifest.json\"\n",
    "   },\n",
    "   \"prefix\":\"comprehend-version\",\n",
    "   \"work_team_name\":team_name,\n",
    "   \"model_ARN_comprehend\":model_ARN_comprehend,\n",
    "   \"entity_types\":[\n",
    "      \"Product\",\n",
    "      \"Service\",\n",
    "      \"Substrate\",\n",
    "      \"Product-Substrate\",\n",
    "      \"Position_Number\",\n",
    "      \"Quantity\",\n",
    "      \"Diameter\",\n",
    "      \"Length\",\n",
    "      \"General_measurements\",\n",
    "      \"Ticked_Box\",\n",
    "      \"PurchaseOrderNumber\",\n",
    "      \"Customer_name\"\n",
    "   ]\n",
    "}"
   ]
  },
  {
   "attachments": {},
   "cell_type": "markdown",
   "id": "1b3447f6-574c-4fd0-8eb3-eb1669ba7b86",
   "metadata": {},
   "source": [
    "This is how the event input of the Comprehend version should look like:\n",
    "- ```premanifest``` : the premanifest file maps PDF to their expected_entities files.  Note the expected_entities are not required to be given in this pre-manifest file and in that case the annotators won't see them in the annotator-metadata section.\n",
    "    - ```bucket```: bucket of the premanifest file\n",
    "    - ```key```: s3 path of the premanifest file\n",
    "- ```prefix```: is used for creating the execution_id which will be used for naming the the s3 folder where outputs will be stored and for the GT labeling job name\n",
    "- ```work_team_name```: Private workforce used to create the GT labeling job\n",
    "- ```model_ARN_comprehend```: model arn of the Comprehend model that will be used to prelabel the documents\n",
    "- ```entity_types```: entity types displayed on the UI and available to annotators\n",
    "\n",
    "\n",
    "**IMPORTANT NOTE**: all PDF documents referenced by the ```premanifest``` file must be placed in the bucket ```comprehend-semi-structured-docs-{region-name}-{account-id}``` that was created by the SAM template. Indeed, the Semi-Structured Documents Annotation Tool used (cf [here](https://github.com/aws-samples/amazon-comprehend-semi-structured-documents-annotation-tools)) does not support input data outside of this bucket."
   ]
  },
  {
   "cell_type": "code",
   "execution_count": 11,
   "id": "bccf184c-7878-4e1e-8c98-84f6156d9526",
   "metadata": {
    "tags": []
   },
   "outputs": [],
   "source": [
    "response = stepfunctions_client.start_execution(\n",
    "    stateMachineArn=comprehend_prelabeling_step_functions_arn,\n",
    "    input=json.dumps(event_comprehend)\n",
    ")"
   ]
  },
  {
   "attachments": {},
   "cell_type": "markdown",
   "id": "2874acd1",
   "metadata": {},
   "source": [
    "### Results and outputs"
   ]
  },
  {
   "attachments": {},
   "cell_type": "markdown",
   "id": "af08b7af",
   "metadata": {},
   "source": [
    "Once the execution is finished, you can: \n",
    "- inspect the following outputs saved in s3:\n",
    "  ```\n",
    "    └── comprehend-semi-structured-docs-{region-name}-{account-id}\n",
    "        └── prelabeling\n",
    "            └── {prefix}+{datetime} # unique folder per job\n",
    "                ├── consolidated_manifest/\n",
    "                │   └── final-manifest.manifest # manifest file used by GT Labeling Job\n",
    "                ├── input-premanifest/\n",
    "                │   └── premanifest.json # copy of the pre-manifest file used as input\n",
    "                ├── comprehend-annotations/\n",
    "                │   ├── zipped_files/ # comprehend async output\n",
    "                │   ├── unzipped_files/ # comprehend async output unzipped\n",
    "                │   │   ├── success/\n",
    "                │   │   └── failure/\n",
    "                │   ├── labeling-annotation-folder/  \n",
    "                │   │   ├── file_1_page_0.json # Comprehend pre-annotations\n",
    "                │   │   ├── ...\n",
    "                │   │   └── blocks/ # Textract outputs\n",
    "                │   └── manifest/\n",
    "                │       └── manifest.csv # intermediate manifest file\n",
    "                └── input-comprehend-pdf-batches/ # copy of PDF files grouped in batches\n",
    "                    ├── batch-0/\n",
    "                    │   ├── file_1.pdf\n",
    "                    │   ├── ...\n",
    "                    │   └── file_500.pdf\n",
    "                    └── ...\n",
    "  ```\n",
    "\n",
    "- open the GT Labeling Job that was created to review the annotations. For that, go to 'Amazon Sagemaker' -> 'Ground Truth' -> 'Labeling jobs' \n"
   ]
  }
 ],
 "metadata": {
  "kernelspec": {
   "display_name": "conda_python3",
   "language": "python",
   "name": "conda_python3"
  },
  "language_info": {
   "codemirror_mode": {
    "name": "ipython",
    "version": 3
   },
   "file_extension": ".py",
   "mimetype": "text/x-python",
   "name": "python",
   "nbconvert_exporter": "python",
   "pygments_lexer": "ipython3",
   "version": "3.10.10"
  }
 },
 "nbformat": 4,
 "nbformat_minor": 5
}
